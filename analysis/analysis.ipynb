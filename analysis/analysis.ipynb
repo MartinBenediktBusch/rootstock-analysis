{
 "cells": [
  {
   "cell_type": "markdown",
   "metadata": {},
   "source": [
    "## Prediction Model for WRBTC usage "
   ]
  },
  {
   "cell_type": "code",
   "execution_count": 1,
   "metadata": {},
   "outputs": [],
   "source": [
    "# Import packages \n",
    "import functions\n",
    "import requests\n",
    "import pandas as pd\n",
    "import os"
   ]
  },
  {
   "cell_type": "markdown",
   "metadata": {},
   "source": [
    "### Query and Save Data "
   ]
  },
  {
   "cell_type": "code",
   "execution_count": 2,
   "metadata": {},
   "outputs": [
    {
     "name": "stdout",
     "output_type": "stream",
     "text": [
      "API key loaded successfully\n"
     ]
    }
   ],
   "source": [
    "# Load the api key to access the data on footprint analytics \n",
    "api_key = functions.load_secret('.env')\n",
    "\n",
    "if api_key:\n",
    "    print(\"API key loaded successfully\")\n",
    "else:\n",
    "    print(\"Failed to load API key\")"
   ]
  },
  {
   "cell_type": "code",
   "execution_count": 5,
   "metadata": {},
   "outputs": [],
   "source": [
    "# query the rootstock token data \n",
    "wrbtc_trans = functions.query_data(api_key, 49935)\n",
    "wrbtc_unique_senders = functions.query_data(api_key, 49946)\n",
    "wrbtc_trans_value = functions.query_data(api_key, 49936)\n",
    "wrbtc_price = functions.query_data(api_key, 49937)\n",
    "rbtc_fee = functions.query_data(api_key, 49938)\n",
    "wrbtc_unique_recipients = functions.query_data(api_key, 49948)"
   ]
  },
  {
   "cell_type": "code",
   "execution_count": 6,
   "metadata": {},
   "outputs": [
    {
     "data": {
      "text/plain": [
       "'Data saved here: c:\\\\Users\\\\beneb\\\\rootstock-analysis\\\\analysis\\\\plots\\\\wrbtc_unique_recipients.csv'"
      ]
     },
     "execution_count": 6,
     "metadata": {},
     "output_type": "execute_result"
    }
   ],
   "source": [
    "# save data  \n",
    "# functions.save_df_to_csv(wrbtc_trans, 'wrbtc_trans.csv')\n",
    "# functions.save_df_to_csv(wrbtc_unique_senders, 'wrbtc_unique_senders.csv')\n",
    "# functions.save_df_to_csv(wrbtc_trans_value, 'wrbtc_trans_value.csv')\n",
    "# functions.save_df_to_csv(wrbtc_price, 'wrbtc_price.csv')\n",
    "# functions.save_df_to_csv(rbtc_fee, 'rbtc_fee.csv')\n",
    "# functions.save_df_to_csv(wrbtc_unique_recipients , 'wrbtc_unique_recipients.csv')"
   ]
  },
  {
   "cell_type": "markdown",
   "metadata": {},
   "source": [
    "### Load and Transform Data "
   ]
  },
  {
   "cell_type": "code",
   "execution_count": 40,
   "metadata": {},
   "outputs": [
    {
     "name": "stdout",
     "output_type": "stream",
     "text": [
      "DataFrame loaded successfully with 604 rows and 4 columns.\n",
      "DataFrame loaded successfully with 604 rows and 4 columns.\n",
      "DataFrame loaded successfully with 604 rows and 4 columns.\n",
      "DataFrame loaded successfully with 608 rows and 4 columns.\n",
      "DataFrame loaded successfully with 607 rows and 4 columns.\n",
      "DataFrame loaded successfully with 604 rows and 4 columns.\n"
     ]
    }
   ],
   "source": [
    "wrbtc_trans = functions.load_csv_to_dataframe('wrbtc_trans.csv')\n",
    "wrbtc_unique_senders = functions.load_csv_to_dataframe('wrbtc_unique_senders.csv')\n",
    "wrbtc_trans_value = functions.load_csv_to_dataframe('wrbtc_trans_value.csv')\n",
    "wrbtc_price = functions.load_csv_to_dataframe('wrbtc_price.csv')\n",
    "rbtc_fee = functions.load_csv_to_dataframe('rbtc_fee.csv')\n",
    "wrbtc_unique_recipients = functions.load_csv_to_dataframe('wrbtc_unique_recipients.csv')"
   ]
  },
  {
   "cell_type": "code",
   "execution_count": 41,
   "metadata": {},
   "outputs": [],
   "source": [
    "# Merge Data \n",
    "merged_data = wrbtc_price \n",
    "\n",
    "suffixes_list = ['_fee', '_trans', '_senders', '_value', '_recipients']\n",
    "\n",
    "for df, suffix in zip([rbtc_fee, wrbtc_trans, wrbtc_unique_senders, wrbtc_trans_value, wrbtc_unique_recipients], suffixes_list):\n",
    "    merged_data = pd.merge(merged_data, df, on='timestamp', how='left', suffixes=('', suffix))\n"
   ]
  },
  {
   "cell_type": "code",
   "execution_count": 42,
   "metadata": {},
   "outputs": [],
   "source": [
    "add_column_names = ['timestamp', 'price', 'price_30_day', 'price_90_day', 'fee', 'fee_30_day', 'fee_90_day', 'trans', 'trans_30_day', 'trans_90_day', 'senders', 'senders_30_day', 'senders_90_day',\n",
    "                                 'trans_value', 'trans_value_30_day', 'trans_value_90_day', 'recipients', 'recipients_30_day', 'recipients_90_day']\n",
    "merged_data.columns = add_column_names\n",
    "merged_data['timestamp'] = pd.to_datetime(merged_data['timestamp']).dt.normalize()"
   ]
  },
  {
   "cell_type": "code",
   "execution_count": 43,
   "metadata": {},
   "outputs": [
    {
     "data": {
      "text/html": [
       "<div>\n",
       "<style scoped>\n",
       "    .dataframe tbody tr th:only-of-type {\n",
       "        vertical-align: middle;\n",
       "    }\n",
       "\n",
       "    .dataframe tbody tr th {\n",
       "        vertical-align: top;\n",
       "    }\n",
       "\n",
       "    .dataframe thead th {\n",
       "        text-align: right;\n",
       "    }\n",
       "</style>\n",
       "<table border=\"1\" class=\"dataframe\">\n",
       "  <thead>\n",
       "    <tr style=\"text-align: right;\">\n",
       "      <th></th>\n",
       "      <th>timestamp</th>\n",
       "      <th>price</th>\n",
       "      <th>price_30_day</th>\n",
       "      <th>price_90_day</th>\n",
       "      <th>fee</th>\n",
       "      <th>fee_30_day</th>\n",
       "      <th>fee_90_day</th>\n",
       "      <th>trans</th>\n",
       "      <th>trans_30_day</th>\n",
       "      <th>trans_90_day</th>\n",
       "      <th>senders</th>\n",
       "      <th>senders_30_day</th>\n",
       "      <th>senders_90_day</th>\n",
       "      <th>trans_value</th>\n",
       "      <th>trans_value_30_day</th>\n",
       "      <th>trans_value_90_day</th>\n",
       "      <th>recipients</th>\n",
       "      <th>recipients_30_day</th>\n",
       "      <th>recipients_90_day</th>\n",
       "    </tr>\n",
       "  </thead>\n",
       "  <tbody>\n",
       "    <tr>\n",
       "      <th>0</th>\n",
       "      <td>2020-10-01 00:00:00+00:00</td>\n",
       "      <td>10765.178365</td>\n",
       "      <td>10765.178365</td>\n",
       "      <td>10765.178365</td>\n",
       "      <td>0.000003</td>\n",
       "      <td>0.000003</td>\n",
       "      <td>0.000003</td>\n",
       "      <td>11.0</td>\n",
       "      <td>11.000000</td>\n",
       "      <td>11.000000</td>\n",
       "      <td>6.0</td>\n",
       "      <td>6.00</td>\n",
       "      <td>6.00</td>\n",
       "      <td>0.126181</td>\n",
       "      <td>0.126181</td>\n",
       "      <td>0.126181</td>\n",
       "      <td>4.0</td>\n",
       "      <td>4.000000</td>\n",
       "      <td>4.000000</td>\n",
       "    </tr>\n",
       "    <tr>\n",
       "      <th>1</th>\n",
       "      <td>2020-10-02 00:00:00+00:00</td>\n",
       "      <td>10567.983468</td>\n",
       "      <td>10666.580917</td>\n",
       "      <td>10666.580917</td>\n",
       "      <td>0.000003</td>\n",
       "      <td>0.000003</td>\n",
       "      <td>0.000003</td>\n",
       "      <td>24.0</td>\n",
       "      <td>17.500000</td>\n",
       "      <td>17.500000</td>\n",
       "      <td>4.0</td>\n",
       "      <td>5.00</td>\n",
       "      <td>5.00</td>\n",
       "      <td>0.034885</td>\n",
       "      <td>0.080533</td>\n",
       "      <td>0.080533</td>\n",
       "      <td>3.0</td>\n",
       "      <td>3.500000</td>\n",
       "      <td>3.500000</td>\n",
       "    </tr>\n",
       "    <tr>\n",
       "      <th>2</th>\n",
       "      <td>2020-10-03 00:00:00+00:00</td>\n",
       "      <td>10563.080907</td>\n",
       "      <td>10632.080913</td>\n",
       "      <td>10632.080913</td>\n",
       "      <td>0.000003</td>\n",
       "      <td>0.000003</td>\n",
       "      <td>0.000003</td>\n",
       "      <td>11.0</td>\n",
       "      <td>15.333333</td>\n",
       "      <td>15.333333</td>\n",
       "      <td>5.0</td>\n",
       "      <td>5.00</td>\n",
       "      <td>5.00</td>\n",
       "      <td>0.018107</td>\n",
       "      <td>0.059724</td>\n",
       "      <td>0.059724</td>\n",
       "      <td>4.0</td>\n",
       "      <td>3.666667</td>\n",
       "      <td>3.666667</td>\n",
       "    </tr>\n",
       "    <tr>\n",
       "      <th>3</th>\n",
       "      <td>2020-10-04 00:00:00+00:00</td>\n",
       "      <td>10588.643469</td>\n",
       "      <td>10621.221552</td>\n",
       "      <td>10621.221552</td>\n",
       "      <td>0.000003</td>\n",
       "      <td>0.000003</td>\n",
       "      <td>0.000003</td>\n",
       "      <td>19.0</td>\n",
       "      <td>16.250000</td>\n",
       "      <td>16.250000</td>\n",
       "      <td>4.0</td>\n",
       "      <td>4.75</td>\n",
       "      <td>4.75</td>\n",
       "      <td>0.034225</td>\n",
       "      <td>0.053349</td>\n",
       "      <td>0.053349</td>\n",
       "      <td>5.0</td>\n",
       "      <td>4.000000</td>\n",
       "      <td>4.000000</td>\n",
       "    </tr>\n",
       "    <tr>\n",
       "      <th>4</th>\n",
       "      <td>2020-10-05 00:00:00+00:00</td>\n",
       "      <td>10695.630025</td>\n",
       "      <td>10636.103247</td>\n",
       "      <td>10636.103247</td>\n",
       "      <td>0.000003</td>\n",
       "      <td>0.000003</td>\n",
       "      <td>0.000003</td>\n",
       "      <td>38.0</td>\n",
       "      <td>20.600000</td>\n",
       "      <td>20.600000</td>\n",
       "      <td>5.0</td>\n",
       "      <td>4.80</td>\n",
       "      <td>4.80</td>\n",
       "      <td>0.063417</td>\n",
       "      <td>0.055363</td>\n",
       "      <td>0.055363</td>\n",
       "      <td>3.0</td>\n",
       "      <td>3.800000</td>\n",
       "      <td>3.800000</td>\n",
       "    </tr>\n",
       "  </tbody>\n",
       "</table>\n",
       "</div>"
      ],
      "text/plain": [
       "                  timestamp         price  price_30_day  price_90_day  \\\n",
       "0 2020-10-01 00:00:00+00:00  10765.178365  10765.178365  10765.178365   \n",
       "1 2020-10-02 00:00:00+00:00  10567.983468  10666.580917  10666.580917   \n",
       "2 2020-10-03 00:00:00+00:00  10563.080907  10632.080913  10632.080913   \n",
       "3 2020-10-04 00:00:00+00:00  10588.643469  10621.221552  10621.221552   \n",
       "4 2020-10-05 00:00:00+00:00  10695.630025  10636.103247  10636.103247   \n",
       "\n",
       "        fee  fee_30_day  fee_90_day  trans  trans_30_day  trans_90_day  \\\n",
       "0  0.000003    0.000003    0.000003   11.0     11.000000     11.000000   \n",
       "1  0.000003    0.000003    0.000003   24.0     17.500000     17.500000   \n",
       "2  0.000003    0.000003    0.000003   11.0     15.333333     15.333333   \n",
       "3  0.000003    0.000003    0.000003   19.0     16.250000     16.250000   \n",
       "4  0.000003    0.000003    0.000003   38.0     20.600000     20.600000   \n",
       "\n",
       "   senders  senders_30_day  senders_90_day  trans_value  trans_value_30_day  \\\n",
       "0      6.0            6.00            6.00     0.126181            0.126181   \n",
       "1      4.0            5.00            5.00     0.034885            0.080533   \n",
       "2      5.0            5.00            5.00     0.018107            0.059724   \n",
       "3      4.0            4.75            4.75     0.034225            0.053349   \n",
       "4      5.0            4.80            4.80     0.063417            0.055363   \n",
       "\n",
       "   trans_value_90_day  recipients  recipients_30_day  recipients_90_day  \n",
       "0            0.126181         4.0           4.000000           4.000000  \n",
       "1            0.080533         3.0           3.500000           3.500000  \n",
       "2            0.059724         4.0           3.666667           3.666667  \n",
       "3            0.053349         5.0           4.000000           4.000000  \n",
       "4            0.055363         3.0           3.800000           3.800000  "
      ]
     },
     "execution_count": 43,
     "metadata": {},
     "output_type": "execute_result"
    }
   ],
   "source": [
    "merged_data.head()"
   ]
  },
  {
   "cell_type": "markdown",
   "metadata": {},
   "source": [
    "### Regression Model"
   ]
  }
 ],
 "metadata": {
  "kernelspec": {
   "display_name": "Python 3",
   "language": "python",
   "name": "python3"
  },
  "language_info": {
   "codemirror_mode": {
    "name": "ipython",
    "version": 3
   },
   "file_extension": ".py",
   "mimetype": "text/x-python",
   "name": "python",
   "nbconvert_exporter": "python",
   "pygments_lexer": "ipython3",
   "version": "3.10.13"
  }
 },
 "nbformat": 4,
 "nbformat_minor": 2
}
