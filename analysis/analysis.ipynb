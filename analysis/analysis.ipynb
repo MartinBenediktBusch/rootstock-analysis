{
 "cells": [
  {
   "cell_type": "markdown",
   "metadata": {},
   "source": [
    "## Prediction Model for WRBTC usage "
   ]
  },
  {
   "cell_type": "code",
   "execution_count": 1,
   "metadata": {},
   "outputs": [],
   "source": [
    "# Import packages \n",
    "import functions\n",
    "import requests\n",
    "import pandas as pd\n",
    "import os"
   ]
  },
  {
   "cell_type": "markdown",
   "metadata": {},
   "source": [
    "### Query and Transform Data "
   ]
  },
  {
   "cell_type": "code",
   "execution_count": 2,
   "metadata": {},
   "outputs": [
    {
     "name": "stdout",
     "output_type": "stream",
     "text": [
      "API key loaded successfully\n"
     ]
    }
   ],
   "source": [
    "# Load the api key to access the data on footprint analytics \n",
    "api_key = functions.load_secret('.env')\n",
    "\n",
    "if api_key:\n",
    "    print(\"API key loaded successfully\")\n",
    "else:\n",
    "    print(\"Failed to load API key\")"
   ]
  },
  {
   "cell_type": "code",
   "execution_count": 5,
   "metadata": {},
   "outputs": [],
   "source": [
    "# query data \n",
    "wrbtc_trans = functions.query_data(api_key, 49935)\n",
    "wrbtc_unique_senders = functions.query_data(api_key, 49946)\n",
    "wrbtc_trans_value = functions.query_data(api_key, 49936)\n",
    "wrbtc_price = functions.query_data(api_key, 49937)\n",
    "rbtc_fee = functions.query_data(api_key, 49938)\n",
    "wrbtc_unique_recipients = functions.query_data(api_key, 49948)"
   ]
  },
  {
   "cell_type": "code",
   "execution_count": 6,
   "metadata": {},
   "outputs": [
    {
     "data": {
      "text/plain": [
       "'Data saved here: c:\\\\Users\\\\beneb\\\\rootstock-analysis\\\\analysis\\\\plots\\\\wrbtc_unique_recipients.csv'"
      ]
     },
     "execution_count": 6,
     "metadata": {},
     "output_type": "execute_result"
    }
   ],
   "source": [
    "# save data \n",
    "functions.save_df_to_csv(wrbtc_trans, 'wrbtc_trans.csv')\n",
    "functions.save_df_to_csv(wrbtc_unique_senders, 'wrbtc_unique_senders.csv')\n",
    "functions.save_df_to_csv(wrbtc_trans_value, 'wrbtc_trans_value.csv')\n",
    "functions.save_df_to_csv(wrbtc_price, 'wrbtc_price.csv')\n",
    "functions.save_df_to_csv(rbtc_fee, 'rbtc_fee.csv')\n",
    "functions.save_df_to_csv(wrbtc_unique_recipients , 'wrbtc_unique_recipients.csv')"
   ]
  }
 ],
 "metadata": {
  "kernelspec": {
   "display_name": "Python 3",
   "language": "python",
   "name": "python3"
  },
  "language_info": {
   "codemirror_mode": {
    "name": "ipython",
    "version": 3
   },
   "file_extension": ".py",
   "mimetype": "text/x-python",
   "name": "python",
   "nbconvert_exporter": "python",
   "pygments_lexer": "ipython3",
   "version": "3.10.13"
  }
 },
 "nbformat": 4,
 "nbformat_minor": 2
}
